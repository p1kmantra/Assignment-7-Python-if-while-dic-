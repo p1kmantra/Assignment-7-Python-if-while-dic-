{
 "cells": [
  {
   "cell_type": "markdown",
   "id": "1b9ce9cf-b1ae-4141-b992-c232b8cd9efc",
   "metadata": {},
   "source": [
    "Q.1.Write a programm to accedpt percentage from the user and display the grade according to the following crioteria\n",
    " \n",
    " Marks                 grade \n",
    " > 90                     A\n",
    " >80 and <=90             B\n",
    " >=60 and <=80            c\n",
    " below 60                 D\n",
    " "
   ]
  },
  {
   "cell_type": "code",
   "execution_count": 12,
   "id": "09ea0040-4ee0-40c3-b00b-43954754c058",
   "metadata": {},
   "outputs": [
    {
     "name": "stdin",
     "output_type": "stream",
     "text": [
      "Emnter your percentage 40\n"
     ]
    },
    {
     "name": "stdout",
     "output_type": "stream",
     "text": [
      "grade D\n"
     ]
    }
   ],
   "source": [
    "percent= int(input(\"Emnter your percentage\"))\n",
    "\n",
    "if percent >90:\n",
    "    print(\"grade A\")\n",
    "elif percent >80 and percent <=90:\n",
    "    print(\"grade B\")\n",
    "elif percent >=60 and percent <=80:\n",
    "    print(\"grade C\")\n",
    "else:\n",
    "    print(\"grade D\")"
   ]
  },
  {
   "cell_type": "code",
   "execution_count": 13,
   "id": "f2ee71f3-af7e-4d51-b92c-085fd593810c",
   "metadata": {},
   "outputs": [
    {
     "name": "stdin",
     "output_type": "stream",
     "text": [
      "Enter your percentage 99\n",
      "Enter your percentage 99.99\n"
     ]
    },
    {
     "name": "stdout",
     "output_type": "stream",
     "text": [
      "grade A\n"
     ]
    }
   ],
   "source": [
    "percent= int(input(\"Enter your percentage\"))\n",
    "percent=float(input(\"Enter your percentage\"))\n",
    "if percent >90:\n",
    "    print(\"grade A\")\n",
    "elif percent >80 and percent <=90:\n",
    "    print(\"grade B\")\n",
    "elif percent >=60 and percent <=80:\n",
    "    print(\"grade C\")\n",
    "else:\n",
    "    print(\"grade D\")"
   ]
  },
  {
   "cell_type": "code",
   "execution_count": null,
   "id": "1957d12f-fa11-4ac2-8d99-9d3275f5efb3",
   "metadata": {},
   "outputs": [],
   "source": []
  },
  {
   "cell_type": "markdown",
   "id": "7a81ea34-792a-4b3c-9ee4-1d0afbb970e5",
   "metadata": {},
   "source": [
    "Q.2.Write a python programm to accept the cost price of a bike and display the road tax to be paid according to the follwing critera \n"
   ]
  },
  {
   "cell_type": "markdown",
   "id": "a643d3c6-a85b-4059-a041-1c0fa50e173e",
   "metadata": {},
   "source": [
    "Tax                                   Coast Price(in Rupees)\n",
    "\n",
    "15%                                     >100000\n",
    "\n",
    "10%                                     >50000 and <=100000\n",
    "\n",
    "5%                                      <=50000"
   ]
  },
  {
   "cell_type": "code",
   "execution_count": 3,
   "id": "59a0c6c0-56cb-4534-ac18-07f560817329",
   "metadata": {},
   "outputs": [
    {
     "name": "stdin",
     "output_type": "stream",
     "text": [
      "enter your coast price 1200000\n"
     ]
    },
    {
     "name": "stdout",
     "output_type": "stream",
     "text": [
      "tax will be 15 percent\n"
     ]
    }
   ],
   "source": [
    "price=int(input(\"enter your coast price\"))\n",
    "\n",
    "if price >100000:\n",
    "    print(\"tax will be\", 15, \"percent\")\n",
    "elif price >50000 and price <=100000:\n",
    "    print(\"tax will be\" ,10, \"percent\")\n",
    "elif price <50000:\n",
    "    print(\"tax will be\", 5 ,\"percent\")\n",
    "else:\n",
    "    print (\"tax free\")"
   ]
  },
  {
   "cell_type": "code",
   "execution_count": 5,
   "id": "cc3d4689-941f-4ee1-8348-2da3d5a66b21",
   "metadata": {},
   "outputs": [
    {
     "name": "stdin",
     "output_type": "stream",
     "text": [
      "enter your coast price 54000\n"
     ]
    },
    {
     "name": "stdout",
     "output_type": "stream",
     "text": [
      "tax will be 10 %\n"
     ]
    }
   ],
   "source": [
    "price=int(input(\"enter your coast price\"))\n",
    "\n",
    "if price >100000:\n",
    "    print(\"tax will be\", 15 ,\"%\")\n",
    "elif price >50000 and price <=100000:\n",
    "    print(\"tax will be\" ,10, \"%\")\n",
    "elif price <=50000:\n",
    "    print(\"tax will be\", 5 ,\"%\")\n",
    "else:\n",
    "    print (\"tax free\")"
   ]
  },
  {
   "cell_type": "code",
   "execution_count": null,
   "id": "654e3710-61a9-42d0-996a-bdc340c1cbfb",
   "metadata": {},
   "outputs": [],
   "source": []
  },
  {
   "cell_type": "code",
   "execution_count": null,
   "id": "cdaf06fa-07be-440a-a569-91331efc841b",
   "metadata": {},
   "outputs": [],
   "source": []
  },
  {
   "cell_type": "markdown",
   "id": "dd5c2434-1c91-437e-9ee2-c0ee5fe6c240",
   "metadata": {},
   "source": [
    "Q.3.Accept any city from the user and display the monuments of that city...\n",
    "\n",
    "city               Monuments\n",
    "Delhi              Red Fort\n",
    "\n",
    "Agra               Taj Mahal\n",
    "\n",
    "Jaipur             Jal Mahal"
   ]
  },
  {
   "cell_type": "code",
   "execution_count": 10,
   "id": "774334ec-6695-4217-a839-8965aa808bba",
   "metadata": {},
   "outputs": [
    {
     "name": "stdin",
     "output_type": "stream",
     "text": [
      "enter the name of city agara\n"
     ]
    },
    {
     "name": "stdout",
     "output_type": "stream",
     "text": [
      "Taj Mahal\n"
     ]
    }
   ],
   "source": [
    "city =input(\"enter the name of city\")\n",
    "\n",
    "if city == \"delhi\":\n",
    "    print(\"Red Fort\")\n",
    "elif city == \"agara\":\n",
    "    print(\"Taj Mahal\")\n",
    "elif city ==(\"jaipur\"):\n",
    "    print(\"Jal Mahal\")\n",
    "else :\n",
    "    print(\"data is not available\")"
   ]
  },
  {
   "cell_type": "code",
   "execution_count": 11,
   "id": "cffa242c-2119-45bc-a735-06671ca64527",
   "metadata": {},
   "outputs": [
    {
     "name": "stdin",
     "output_type": "stream",
     "text": [
      "enter the name of city mubai\n"
     ]
    },
    {
     "name": "stdout",
     "output_type": "stream",
     "text": [
      "data is not available\n"
     ]
    }
   ],
   "source": [
    "city =input(\"enter the name of city\")\n",
    "\n",
    "if city == \"delhi\":\n",
    "    print(\"Red Fort\")\n",
    "elif city == \"agara\":\n",
    "    print(\"Taj Mahal\")\n",
    "elif city ==(\"jaipur\"):\n",
    "    print(\"Jal Mahal\")\n",
    "else :\n",
    "    print(\"data is not available\")"
   ]
  },
  {
   "cell_type": "code",
   "execution_count": 6,
   "id": "afc12e68-2961-4342-92f7-44383d034be2",
   "metadata": {},
   "outputs": [
    {
     "name": "stdin",
     "output_type": "stream",
     "text": [
      "enter the name of city  jaipur\n"
     ]
    },
    {
     "data": {
      "text/plain": [
       "dict_values(['Red Fort', 'Taj Mahal', 'Jal Mahal'])"
      ]
     },
     "execution_count": 6,
     "metadata": {},
     "output_type": "execute_result"
    }
   ],
   "source": [
    "city=input(\"enter the name of city \")\n",
    "\n",
    "def test(**kwargs):\n",
    "    d={\"delhi\":\"Red Fort\",\"Agra\":\"Taj Mahal\",\"jaipur\":\"Jal Mahal\"}\n",
    "    return d.values()\n",
    "test()"
   ]
  },
  {
   "cell_type": "code",
   "execution_count": 12,
   "id": "bfce6a2d-d424-413c-9280-2628fdaebf79",
   "metadata": {},
   "outputs": [],
   "source": [
    "# sir can i find out the data from this process,if yes,then please suggest me"
   ]
  },
  {
   "cell_type": "markdown",
   "id": "1812f358-489e-4957-b794-04f070e18bbd",
   "metadata": {},
   "source": [
    "Q.4.Check how many times a given number can be devided by 3 before it is less than or equal to 10."
   ]
  },
  {
   "cell_type": "code",
   "execution_count": 12,
   "id": "82ef71c0-2061-4fe1-af7f-713f774c5bcd",
   "metadata": {},
   "outputs": [
    {
     "name": "stdin",
     "output_type": "stream",
     "text": [
      "enter your number 9\n"
     ]
    },
    {
     "name": "stdout",
     "output_type": "stream",
     "text": [
      "number is divisible by 3\n",
      "number is not divisible by 3\n",
      "number is not divisible by 3\n",
      "number is divisible by 3\n",
      "number is not divisible by 3\n",
      "number is not divisible by 3\n",
      "number is divisible by 3\n",
      "number is not divisible by 3\n",
      "number is not divisible by 3\n",
      "number is divisible by 3\n"
     ]
    }
   ],
   "source": [
    "num =int(input(\"enter your number\"))\n",
    "for num in range(10):\n",
    "    \n",
    "    if num%3==0:\n",
    "        \n",
    "        print (\"number is divisible by 3\")\n",
    "    else:\n",
    "        print(\"number is not divisible by 3\")"
   ]
  },
  {
   "cell_type": "code",
   "execution_count": 2,
   "id": "3104fa88-ffda-4d70-921f-d67d95cfd9b0",
   "metadata": {},
   "outputs": [],
   "source": [
    "l=range(10)"
   ]
  },
  {
   "cell_type": "code",
   "execution_count": 9,
   "id": "f913abb8-ccaf-43ac-b877-f69cc384330f",
   "metadata": {},
   "outputs": [
    {
     "name": "stdin",
     "output_type": "stream",
     "text": [
      "enter ur num 9\n"
     ]
    },
    {
     "name": "stdout",
     "output_type": "stream",
     "text": [
      "[0, 3, 6, 9]\n"
     ]
    }
   ],
   "source": [
    "i=int(input(\"enter ur num\"))\n",
    "l=[i for i in l if i%3==0]\n",
    "print(l)"
   ]
  },
  {
   "cell_type": "code",
   "execution_count": null,
   "id": "fdce1b0b-1de0-4870-88b7-fdc37f7cb71c",
   "metadata": {},
   "outputs": [],
   "source": []
  },
  {
   "cell_type": "markdown",
   "id": "f4a2e7df-0fd5-4e15-b7b8-052eb9bfe818",
   "metadata": {},
   "source": [
    "Q.5.why and when to use while loop in python give a detailed discriptiion with example ?"
   ]
  },
  {
   "cell_type": "code",
   "execution_count": null,
   "id": "1d730a90-3dd2-47e1-9d0d-f98ab8bc0dc2",
   "metadata": {},
   "outputs": [],
   "source": []
  },
  {
   "cell_type": "markdown",
   "id": "a13a69bf-f68a-4b87-ba68-0255519b1ada",
   "metadata": {},
   "source": [
    "Ans.In python ,a while loop is used to execute a block of code repeatedlly as long as a certain condition is true .It is ofen used when the number of iteration is not known .while loop always checks the condition that the given condition is true or false when it will be true ,it will go forward for the operation.If the given condition is false it will stop and won't exicute any data.Once the condition is false the program exits the loop and continues with the rest of the code.Here is an exaple of while loop..."
   ]
  },
  {
   "cell_type": "code",
   "execution_count": 6,
   "id": "9f141714-b655-4b18-bd99-50a577d9dab1",
   "metadata": {},
   "outputs": [
    {
     "name": "stdin",
     "output_type": "stream",
     "text": [
      "enter your limit 20\n"
     ]
    },
    {
     "data": {
      "text/plain": [
       "40"
      ]
     },
     "execution_count": 6,
     "metadata": {},
     "output_type": "execute_result"
    }
   ],
   "source": [
    "n=int(input(\"enter your limit\"))\n",
    "starting_point=10\n",
    "counter=2\n",
    "while counter <=n:\n",
    "    starting_point=starting_point+counter\n",
    "    counter=counter+8\n",
    "    \n",
    "starting_point"
   ]
  },
  {
   "cell_type": "code",
   "execution_count": 7,
   "id": "f03a6011-8b0b-4af6-acc6-07337b8d695e",
   "metadata": {},
   "outputs": [
    {
     "name": "stdin",
     "output_type": "stream",
     "text": [
      "enter your limit 20\n"
     ]
    },
    {
     "data": {
      "text/plain": [
       "120"
      ]
     },
     "execution_count": 7,
     "metadata": {},
     "output_type": "execute_result"
    }
   ],
   "source": [
    "n=int(input(\"enter your limit\"))\n",
    "starting_point=10\n",
    "counter=2\n",
    "while counter <=n:\n",
    "    starting_point=starting_point+counter\n",
    "    counter=counter+2\n",
    "    \n",
    "starting_point"
   ]
  },
  {
   "cell_type": "markdown",
   "id": "b94f845e-36ae-4693-9b8f-06012e07af90",
   "metadata": {},
   "source": [
    "here we can see the conditiion given for the counter is less than 10, that is to be follwed by the method of while loop.we can say it is a powerful construct that allows you to repeat code execution until a specific condition is met."
   ]
  },
  {
   "cell_type": "code",
   "execution_count": null,
   "id": "88049cce-e5e2-4aaf-8d33-397e8648ed03",
   "metadata": {},
   "outputs": [],
   "source": []
  },
  {
   "cell_type": "markdown",
   "id": "503e3be9-aafa-4b71-9ea0-cd7cc98dde46",
   "metadata": {},
   "source": [
    "Q.6.Use nested while loop to print 3 different pattern."
   ]
  },
  {
   "cell_type": "markdown",
   "id": "1395c388-8e37-4b20-89fa-7523c2c8547c",
   "metadata": {},
   "source": [
    "Ans. please suggest me how to create this program"
   ]
  },
  {
   "cell_type": "markdown",
   "id": "e0c4b949-65f8-4401-b085-d86d84a77c54",
   "metadata": {},
   "source": [
    "Q.7.Reverse a while loop to display number from 10 to 1."
   ]
  },
  {
   "cell_type": "code",
   "execution_count": 12,
   "id": "c509542a-15f3-491b-a15e-91ffdbbc09bf",
   "metadata": {},
   "outputs": [
    {
     "name": "stdout",
     "output_type": "stream",
     "text": [
      "10\n",
      "9\n",
      "8\n",
      "7\n",
      "6\n",
      "5\n",
      "4\n",
      "3\n",
      "2\n",
      "1\n"
     ]
    }
   ],
   "source": [
    "a=10\n",
    "while a>=1:\n",
    "    print(a)\n",
    "    a=a-1\n"
   ]
  },
  {
   "cell_type": "code",
   "execution_count": 10,
   "id": "d8b0acbe-d548-4f44-a9ac-84f9e3fa7d96",
   "metadata": {},
   "outputs": [
    {
     "name": "stdout",
     "output_type": "stream",
     "text": [
      "10\n",
      "9\n",
      "8\n",
      "7\n",
      "6\n",
      "5\n",
      "4\n",
      "3\n",
      "2\n",
      "1\n"
     ]
    }
   ],
   "source": [
    "l=range(1,11)\n",
    "for i in range(len(l)-1,-1,-1):\n",
    "    print(l[i])"
   ]
  },
  {
   "cell_type": "code",
   "execution_count": null,
   "id": "cb714a0c-43f7-42c6-b019-c8e2ac436820",
   "metadata": {},
   "outputs": [],
   "source": []
  }
 ],
 "metadata": {
  "kernelspec": {
   "display_name": "Python 3 (ipykernel)",
   "language": "python",
   "name": "python3"
  },
  "language_info": {
   "codemirror_mode": {
    "name": "ipython",
    "version": 3
   },
   "file_extension": ".py",
   "mimetype": "text/x-python",
   "name": "python",
   "nbconvert_exporter": "python",
   "pygments_lexer": "ipython3",
   "version": "3.10.8"
  }
 },
 "nbformat": 4,
 "nbformat_minor": 5
}
